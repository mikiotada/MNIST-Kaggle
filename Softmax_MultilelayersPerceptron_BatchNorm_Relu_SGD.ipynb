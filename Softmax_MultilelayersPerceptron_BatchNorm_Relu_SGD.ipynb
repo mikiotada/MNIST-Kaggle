{
 "cells": [
  {
   "cell_type": "code",
   "execution_count": 1,
   "metadata": {},
   "outputs": [],
   "source": [
    "import os\n",
    "import numpy as np\n",
    "import pandas as pd\n",
    "\n",
    "import torch\n",
    "import torch.nn as nn\n",
    "import torch.nn.functional as F\n",
    "from torchvision import transforms\n",
    "from torch.utils.data import DataLoader\n",
    "\n",
    "\n",
    "%matplotlib inline\n",
    "import matplotlib.pyplot as plt\n",
    "from PIL import Image"
   ]
  },
  {
   "cell_type": "code",
   "execution_count": 2,
   "metadata": {},
   "outputs": [
    {
     "data": {
      "text/plain": [
       "device(type='cuda', index=0)"
      ]
     },
     "execution_count": 2,
     "metadata": {},
     "output_type": "execute_result"
    }
   ],
   "source": [
    "## Device\n",
    "DEVICE = torch.device('cuda:0' if torch.cuda.is_available() else 'cpu'); DEVICE"
   ]
  },
  {
   "cell_type": "markdown",
   "metadata": {},
   "source": [
    "## Prepare dataset"
   ]
  },
  {
   "cell_type": "code",
   "execution_count": 3,
   "metadata": {},
   "outputs": [],
   "source": [
    "\"\"\"\n",
    "Prepare Dataset using Dataloader\n",
    "\"\"\"\n",
    "class MNIST():\n",
    "\n",
    "    def __init__(self, csv, img_file, transform=None):\n",
    "        df = pd.read_csv(csv)\n",
    "        self.img_file = img_file\n",
    "        self.img_id = df['image']\n",
    "        self.y = df['label']\n",
    "        self.transform = transform\n",
    "\n",
    "        \n",
    "    def __getitem__(self, index):\n",
    "        img = Image.open(os.path.join(self.img_file,\n",
    "                                      self.img_id[index]))\n",
    "        \n",
    "        label = self.y[index]\n",
    "        if self.transform is not None:\n",
    "            img = self.transform(img)\n",
    "        \n",
    "        return img, label\n",
    "\n",
    "    \n",
    "    def __len__(self):\n",
    "        return self.y.shape[0]\n",
    "    \n",
    "    \n",
    "# Hyperparameters \n",
    "BATCH_SIZE = 256\n",
    "RANDOM_SEED = 123\n",
    "LEARNING_RATE = 0.03\n",
    "NUM_EPOCHS = 50\n",
    "num_hidden_1 = 75\n",
    "num_hidden_2 = 75\n",
    "\n",
    "\n",
    "# Architecture\n",
    "num_features = 784\n",
    "num_classes = 10\n",
    "\n",
    "    \n",
    "train_transform = transforms.Compose([transforms.ToTensor()])\n",
    "\n",
    "val_transform = transforms.Compose([transforms.ToTensor()])\n",
    "\n",
    "train_dataset = MNIST(csv='customed_train.csv',\n",
    "                      img_file='mnist_train',\n",
    "                      transform=train_transform)\n",
    "\n",
    "train_loader = DataLoader(dataset=train_dataset,\n",
    "                          batch_size=BATCH_SIZE, \n",
    "                          shuffle=True,\n",
    "                          num_workers=4)\n",
    "\n",
    "valid_dataset = MNIST(csv='customed_valid.csv',\n",
    "                      img_file='mnist_val',\n",
    "                      transform=val_transform)\n",
    "\n",
    "valid_loader = DataLoader(dataset=valid_dataset,\n",
    "                          batch_size=BATCH_SIZE,\n",
    "                          shuffle=True,\n",
    "                          num_workers=4)"
   ]
  },
  {
   "cell_type": "markdown",
   "metadata": {},
   "source": [
    "## Multilayer Perceptron Model "
   ]
  },
  {
   "cell_type": "code",
   "execution_count": 4,
   "metadata": {},
   "outputs": [],
   "source": [
    "\"\"\"\n",
    "Model and hyperparameters\n",
    "\"\"\"\n",
    "class SoftmaxRegression(nn.Module):\n",
    "    \n",
    "    def __init__(self, num_features, num_classes):\n",
    "        super(SoftmaxRegression, self).__init__()\n",
    "        \n",
    "        #1st hidden layer\n",
    "        self.linear_1 = nn.Linear(num_features, num_hidden_1)\n",
    "        self.linear_1_bn = nn.BatchNorm1d(num_hidden_1)\n",
    "        \n",
    "        #2nd hidden layer \n",
    "        self.linear_2 = nn.Linear(num_hidden_1, num_hidden_2)\n",
    "        self.linear_2_bn= nn.BatchNorm1d(num_hidden_2)\n",
    "        \n",
    "        # output layer\n",
    "        self.linear_out = nn.Linear(num_hidden_1, num_classes)\n",
    "        \n",
    "    def forward(self, x):\n",
    "        z1 = self.linear_1(x)\n",
    "        z1_ = self.linear_1_bn(z1)\n",
    "        a1 = F.relu(z1)\n",
    "        \n",
    "        z2 = self.linear_2(a1)\n",
    "        z2_ = self.linear_2_bn(z2)\n",
    "        a2 = F.relu(z2_)\n",
    "        \n",
    "        out = self.linear_out(a1)\n",
    "        probs = F.softmax(out, dim=1)\n",
    "        \n",
    "        return out, probs\n",
    "    "
   ]
  },
  {
   "cell_type": "code",
   "execution_count": 5,
   "metadata": {},
   "outputs": [
    {
     "data": {
      "text/plain": [
       "<torch._C.Generator at 0x7f1e4193d950>"
      ]
     },
     "execution_count": 5,
     "metadata": {},
     "output_type": "execute_result"
    }
   ],
   "source": [
    "model = SoftmaxRegression(num_features=num_features,\n",
    "                          num_classes=num_classes)\n",
    "\n",
    "model = model.to(DEVICE)\n",
    "\n",
    "optimizer = torch.optim.SGD(model.parameters(), lr=LEARNING_RATE)  \n",
    "\n",
    "torch.manual_seed(RANDOM_SEED)\n"
   ]
  },
  {
   "cell_type": "code",
   "execution_count": 6,
   "metadata": {},
   "outputs": [],
   "source": [
    "def train_model(model, data_loader, ith_epoch, epochs):\n",
    "    model.train()\n",
    "    loss_per_epoch = 0 \n",
    "    \n",
    "    for batch_idx, (features, targets) in enumerate(data_loader):\n",
    "        features = features.view(-1, 28*28).to(DEVICE)\n",
    "        targets = targets.to(DEVICE)\n",
    "        \n",
    "        z, probs = model(features)\n",
    "        \n",
    "        loss = F.cross_entropy(z, targets)\n",
    "        loss_per_epoch += loss\n",
    "        \n",
    "        optimizer.zero_grad()\n",
    "        loss.backward()\n",
    "        optimizer.step()\n",
    "           \n",
    "        \n",
    "        if (batch_idx)% 50 == 0:\n",
    "            print(f'Epoch: {ith_epoch+1:02d}/{epochs:02d} | '\n",
    "                  f'Batch: {batch_idx:03d}/{len(data_loader):03d} | Loss: {loss:.3f}')"
   ]
  },
  {
   "cell_type": "code",
   "execution_count": 7,
   "metadata": {},
   "outputs": [],
   "source": [
    "def compute_accuracy_and_loss(model, data_loader):\n",
    "    correct_pred = 0\n",
    "    num_examples = 0\n",
    "    cross_entropy = 0.\n",
    "    \n",
    "    model.eval()\n",
    "    for features, targets in data_loader:\n",
    "            \n",
    "        features = features.view(-1, 28*28).to(DEVICE)\n",
    "        targets = targets.to(DEVICE)\n",
    "\n",
    "        z, probs = model(features)\n",
    "        cross_entropy += F.cross_entropy(z, targets).item()\n",
    "        _, predicted_labels = torch.max(probs, 1)\n",
    "        num_examples += targets.size(0)\n",
    "        correct_pred += (predicted_labels == targets).sum()\n",
    "        \n",
    "    return correct_pred.float()/num_examples * 100, cross_entropy/num_examples"
   ]
  },
  {
   "cell_type": "code",
   "execution_count": 8,
   "metadata": {
    "scrolled": true
   },
   "outputs": [
    {
     "name": "stdout",
     "output_type": "stream",
     "text": [
      "Epoch: 01/50 | Batch: 000/132 | Loss: 2.310\n",
      "Epoch: 01/50 | Batch: 050/132 | Loss: 1.973\n",
      "Epoch: 01/50 | Batch: 100/132 | Loss: 1.539\n",
      "Epoch: 01/50 | Train Acc.: 77.85% | Validation Acc.: 78.17%\n",
      "Epoch: 02/50 | Batch: 000/132 | Loss: 1.204\n",
      "Epoch: 02/50 | Batch: 050/132 | Loss: 0.970\n",
      "Epoch: 02/50 | Batch: 100/132 | Loss: 0.743\n",
      "Epoch: 02/50 | Train Acc.: 84.54% | Validation Acc.: 84.89%\n",
      "Epoch: 03/50 | Batch: 000/132 | Loss: 0.732\n",
      "Epoch: 03/50 | Batch: 050/132 | Loss: 0.573\n",
      "Epoch: 03/50 | Batch: 100/132 | Loss: 0.669\n",
      "Epoch: 03/50 | Train Acc.: 86.74% | Validation Acc.: 87.07%\n",
      "Epoch: 04/50 | Batch: 000/132 | Loss: 0.590\n",
      "Epoch: 04/50 | Batch: 050/132 | Loss: 0.502\n",
      "Epoch: 04/50 | Batch: 100/132 | Loss: 0.511\n",
      "Epoch: 04/50 | Train Acc.: 87.98% | Validation Acc.: 88.26%\n",
      "Epoch: 05/50 | Batch: 000/132 | Loss: 0.460\n",
      "Epoch: 05/50 | Batch: 050/132 | Loss: 0.450\n",
      "Epoch: 05/50 | Batch: 100/132 | Loss: 0.422\n",
      "Epoch: 05/50 | Train Acc.: 88.86% | Validation Acc.: 88.86%\n",
      "Epoch: 06/50 | Batch: 000/132 | Loss: 0.474\n",
      "Epoch: 06/50 | Batch: 050/132 | Loss: 0.368\n",
      "Epoch: 06/50 | Batch: 100/132 | Loss: 0.409\n",
      "Epoch: 06/50 | Train Acc.: 89.51% | Validation Acc.: 89.58%\n",
      "Epoch: 07/50 | Batch: 000/132 | Loss: 0.362\n",
      "Epoch: 07/50 | Batch: 050/132 | Loss: 0.365\n",
      "Epoch: 07/50 | Batch: 100/132 | Loss: 0.447\n",
      "Epoch: 07/50 | Train Acc.: 89.75% | Validation Acc.: 89.71%\n",
      "Epoch: 08/50 | Batch: 000/132 | Loss: 0.309\n",
      "Epoch: 08/50 | Batch: 050/132 | Loss: 0.329\n",
      "Epoch: 08/50 | Batch: 100/132 | Loss: 0.397\n",
      "Epoch: 08/50 | Train Acc.: 90.26% | Validation Acc.: 90.11%\n",
      "Epoch: 09/50 | Batch: 000/132 | Loss: 0.266\n",
      "Epoch: 09/50 | Batch: 050/132 | Loss: 0.334\n",
      "Epoch: 09/50 | Batch: 100/132 | Loss: 0.265\n",
      "Epoch: 09/50 | Train Acc.: 90.34% | Validation Acc.: 90.32%\n",
      "Epoch: 10/50 | Batch: 000/132 | Loss: 0.441\n",
      "Epoch: 10/50 | Batch: 050/132 | Loss: 0.308\n",
      "Epoch: 10/50 | Batch: 100/132 | Loss: 0.426\n",
      "Epoch: 10/50 | Train Acc.: 90.70% | Validation Acc.: 90.54%\n",
      "Epoch: 11/50 | Batch: 000/132 | Loss: 0.253\n",
      "Epoch: 11/50 | Batch: 050/132 | Loss: 0.332\n",
      "Epoch: 11/50 | Batch: 100/132 | Loss: 0.301\n",
      "Epoch: 11/50 | Train Acc.: 90.81% | Validation Acc.: 90.62%\n",
      "Epoch: 12/50 | Batch: 000/132 | Loss: 0.246\n",
      "Epoch: 12/50 | Batch: 050/132 | Loss: 0.301\n",
      "Epoch: 12/50 | Batch: 100/132 | Loss: 0.317\n",
      "Epoch: 12/50 | Train Acc.: 91.08% | Validation Acc.: 90.90%\n",
      "Epoch: 13/50 | Batch: 000/132 | Loss: 0.368\n",
      "Epoch: 13/50 | Batch: 050/132 | Loss: 0.261\n",
      "Epoch: 13/50 | Batch: 100/132 | Loss: 0.329\n",
      "Epoch: 13/50 | Train Acc.: 91.22% | Validation Acc.: 90.93%\n",
      "Epoch: 14/50 | Batch: 000/132 | Loss: 0.218\n",
      "Epoch: 14/50 | Batch: 050/132 | Loss: 0.329\n",
      "Epoch: 14/50 | Batch: 100/132 | Loss: 0.237\n",
      "Epoch: 14/50 | Train Acc.: 91.52% | Validation Acc.: 91.13%\n",
      "Epoch: 15/50 | Batch: 000/132 | Loss: 0.203\n",
      "Epoch: 15/50 | Batch: 050/132 | Loss: 0.318\n",
      "Epoch: 15/50 | Batch: 100/132 | Loss: 0.291\n",
      "Epoch: 15/50 | Train Acc.: 91.68% | Validation Acc.: 91.30%\n",
      "Epoch: 16/50 | Batch: 000/132 | Loss: 0.273\n",
      "Epoch: 16/50 | Batch: 050/132 | Loss: 0.312\n",
      "Epoch: 16/50 | Batch: 100/132 | Loss: 0.328\n",
      "Epoch: 16/50 | Train Acc.: 91.77% | Validation Acc.: 91.33%\n",
      "Epoch: 17/50 | Batch: 000/132 | Loss: 0.369\n",
      "Epoch: 17/50 | Batch: 050/132 | Loss: 0.224\n",
      "Epoch: 17/50 | Batch: 100/132 | Loss: 0.226\n",
      "Epoch: 17/50 | Train Acc.: 91.94% | Validation Acc.: 91.79%\n",
      "Epoch: 18/50 | Batch: 000/132 | Loss: 0.267\n",
      "Epoch: 18/50 | Batch: 050/132 | Loss: 0.291\n",
      "Epoch: 18/50 | Batch: 100/132 | Loss: 0.282\n",
      "Epoch: 18/50 | Train Acc.: 92.18% | Validation Acc.: 91.76%\n",
      "Epoch: 19/50 | Batch: 000/132 | Loss: 0.316\n",
      "Epoch: 19/50 | Batch: 050/132 | Loss: 0.329\n",
      "Epoch: 19/50 | Batch: 100/132 | Loss: 0.303\n",
      "Epoch: 19/50 | Train Acc.: 92.31% | Validation Acc.: 91.95%\n",
      "Epoch: 20/50 | Batch: 000/132 | Loss: 0.310\n",
      "Epoch: 20/50 | Batch: 050/132 | Loss: 0.267\n",
      "Epoch: 20/50 | Batch: 100/132 | Loss: 0.253\n",
      "Epoch: 20/50 | Train Acc.: 92.37% | Validation Acc.: 91.98%\n",
      "Epoch: 21/50 | Batch: 000/132 | Loss: 0.281\n",
      "Epoch: 21/50 | Batch: 050/132 | Loss: 0.347\n",
      "Epoch: 21/50 | Batch: 100/132 | Loss: 0.246\n",
      "Epoch: 21/50 | Train Acc.: 92.49% | Validation Acc.: 92.08%\n",
      "Epoch: 22/50 | Batch: 000/132 | Loss: 0.230\n",
      "Epoch: 22/50 | Batch: 050/132 | Loss: 0.253\n",
      "Epoch: 22/50 | Batch: 100/132 | Loss: 0.352\n",
      "Epoch: 22/50 | Train Acc.: 92.67% | Validation Acc.: 92.32%\n",
      "Epoch: 23/50 | Batch: 000/132 | Loss: 0.224\n",
      "Epoch: 23/50 | Batch: 050/132 | Loss: 0.243\n",
      "Epoch: 23/50 | Batch: 100/132 | Loss: 0.336\n",
      "Epoch: 23/50 | Train Acc.: 92.73% | Validation Acc.: 92.24%\n",
      "Epoch: 24/50 | Batch: 000/132 | Loss: 0.254\n",
      "Epoch: 24/50 | Batch: 050/132 | Loss: 0.245\n",
      "Epoch: 24/50 | Batch: 100/132 | Loss: 0.276\n",
      "Epoch: 24/50 | Train Acc.: 92.80% | Validation Acc.: 92.37%\n",
      "Epoch: 25/50 | Batch: 000/132 | Loss: 0.283\n",
      "Epoch: 25/50 | Batch: 050/132 | Loss: 0.221\n",
      "Epoch: 25/50 | Batch: 100/132 | Loss: 0.261\n",
      "Epoch: 25/50 | Train Acc.: 93.03% | Validation Acc.: 92.65%\n",
      "Epoch: 26/50 | Batch: 000/132 | Loss: 0.322\n",
      "Epoch: 26/50 | Batch: 050/132 | Loss: 0.189\n",
      "Epoch: 26/50 | Batch: 100/132 | Loss: 0.343\n",
      "Epoch: 26/50 | Train Acc.: 93.10% | Validation Acc.: 92.57%\n",
      "Epoch: 27/50 | Batch: 000/132 | Loss: 0.272\n",
      "Epoch: 27/50 | Batch: 050/132 | Loss: 0.194\n",
      "Epoch: 27/50 | Batch: 100/132 | Loss: 0.163\n",
      "Epoch: 27/50 | Train Acc.: 93.25% | Validation Acc.: 92.76%\n",
      "Epoch: 28/50 | Batch: 000/132 | Loss: 0.296\n",
      "Epoch: 28/50 | Batch: 050/132 | Loss: 0.282\n",
      "Epoch: 28/50 | Batch: 100/132 | Loss: 0.302\n",
      "Epoch: 28/50 | Train Acc.: 93.28% | Validation Acc.: 92.85%\n",
      "Epoch: 29/50 | Batch: 000/132 | Loss: 0.223\n",
      "Epoch: 29/50 | Batch: 050/132 | Loss: 0.302\n",
      "Epoch: 29/50 | Batch: 100/132 | Loss: 0.224\n",
      "Epoch: 29/50 | Train Acc.: 93.36% | Validation Acc.: 92.92%\n",
      "Epoch: 30/50 | Batch: 000/132 | Loss: 0.211\n",
      "Epoch: 30/50 | Batch: 050/132 | Loss: 0.278\n",
      "Epoch: 30/50 | Batch: 100/132 | Loss: 0.229\n",
      "Epoch: 30/50 | Train Acc.: 93.44% | Validation Acc.: 93.01%\n",
      "Epoch: 31/50 | Batch: 000/132 | Loss: 0.225\n",
      "Epoch: 31/50 | Batch: 050/132 | Loss: 0.252\n",
      "Epoch: 31/50 | Batch: 100/132 | Loss: 0.210\n",
      "Epoch: 31/50 | Train Acc.: 93.51% | Validation Acc.: 93.10%\n",
      "Epoch: 32/50 | Batch: 000/132 | Loss: 0.233\n",
      "Epoch: 32/50 | Batch: 050/132 | Loss: 0.252\n",
      "Epoch: 32/50 | Batch: 100/132 | Loss: 0.218\n",
      "Epoch: 32/50 | Train Acc.: 93.65% | Validation Acc.: 93.21%\n",
      "Epoch: 33/50 | Batch: 000/132 | Loss: 0.198\n",
      "Epoch: 33/50 | Batch: 050/132 | Loss: 0.230\n",
      "Epoch: 33/50 | Batch: 100/132 | Loss: 0.277\n",
      "Epoch: 33/50 | Train Acc.: 93.80% | Validation Acc.: 93.24%\n",
      "Epoch: 34/50 | Batch: 000/132 | Loss: 0.201\n",
      "Epoch: 34/50 | Batch: 050/132 | Loss: 0.194\n",
      "Epoch: 34/50 | Batch: 100/132 | Loss: 0.205\n",
      "Epoch: 34/50 | Train Acc.: 93.84% | Validation Acc.: 93.30%\n",
      "Epoch: 35/50 | Batch: 000/132 | Loss: 0.269\n",
      "Epoch: 35/50 | Batch: 050/132 | Loss: 0.231\n",
      "Epoch: 35/50 | Batch: 100/132 | Loss: 0.189\n",
      "Epoch: 35/50 | Train Acc.: 93.96% | Validation Acc.: 93.32%\n",
      "Epoch: 36/50 | Batch: 000/132 | Loss: 0.189\n",
      "Epoch: 36/50 | Batch: 050/132 | Loss: 0.218\n",
      "Epoch: 36/50 | Batch: 100/132 | Loss: 0.152\n",
      "Epoch: 36/50 | Train Acc.: 94.05% | Validation Acc.: 93.51%\n",
      "Epoch: 37/50 | Batch: 000/132 | Loss: 0.205\n",
      "Epoch: 37/50 | Batch: 050/132 | Loss: 0.220\n",
      "Epoch: 37/50 | Batch: 100/132 | Loss: 0.309\n",
      "Epoch: 37/50 | Train Acc.: 94.19% | Validation Acc.: 93.57%\n",
      "Epoch: 38/50 | Batch: 000/132 | Loss: 0.230\n",
      "Epoch: 38/50 | Batch: 050/132 | Loss: 0.178\n",
      "Epoch: 38/50 | Batch: 100/132 | Loss: 0.190\n",
      "Epoch: 38/50 | Train Acc.: 94.20% | Validation Acc.: 93.52%\n",
      "Epoch: 39/50 | Batch: 000/132 | Loss: 0.219\n",
      "Epoch: 39/50 | Batch: 050/132 | Loss: 0.208\n",
      "Epoch: 39/50 | Batch: 100/132 | Loss: 0.222\n",
      "Epoch: 39/50 | Train Acc.: 94.29% | Validation Acc.: 93.46%\n",
      "Epoch: 40/50 | Batch: 000/132 | Loss: 0.331\n",
      "Epoch: 40/50 | Batch: 050/132 | Loss: 0.203\n",
      "Epoch: 40/50 | Batch: 100/132 | Loss: 0.239\n",
      "Epoch: 40/50 | Train Acc.: 94.41% | Validation Acc.: 93.74%\n",
      "Epoch: 41/50 | Batch: 000/132 | Loss: 0.155\n",
      "Epoch: 41/50 | Batch: 050/132 | Loss: 0.227\n",
      "Epoch: 41/50 | Batch: 100/132 | Loss: 0.121\n",
      "Epoch: 41/50 | Train Acc.: 94.43% | Validation Acc.: 93.73%\n",
      "Epoch: 42/50 | Batch: 000/132 | Loss: 0.167\n",
      "Epoch: 42/50 | Batch: 050/132 | Loss: 0.216\n",
      "Epoch: 42/50 | Batch: 100/132 | Loss: 0.178\n",
      "Epoch: 42/50 | Train Acc.: 94.53% | Validation Acc.: 93.62%\n",
      "Epoch: 43/50 | Batch: 000/132 | Loss: 0.202\n",
      "Epoch: 43/50 | Batch: 050/132 | Loss: 0.149\n",
      "Epoch: 43/50 | Batch: 100/132 | Loss: 0.184\n"
     ]
    },
    {
     "name": "stdout",
     "output_type": "stream",
     "text": [
      "Epoch: 43/50 | Train Acc.: 94.59% | Validation Acc.: 93.74%\n",
      "Epoch: 44/50 | Batch: 000/132 | Loss: 0.140\n",
      "Epoch: 44/50 | Batch: 050/132 | Loss: 0.187\n",
      "Epoch: 44/50 | Batch: 100/132 | Loss: 0.139\n",
      "Epoch: 44/50 | Train Acc.: 94.75% | Validation Acc.: 93.99%\n",
      "Epoch: 45/50 | Batch: 000/132 | Loss: 0.213\n",
      "Epoch: 45/50 | Batch: 050/132 | Loss: 0.196\n",
      "Epoch: 45/50 | Batch: 100/132 | Loss: 0.271\n",
      "Epoch: 45/50 | Train Acc.: 94.74% | Validation Acc.: 93.99%\n",
      "Epoch: 46/50 | Batch: 000/132 | Loss: 0.202\n",
      "Epoch: 46/50 | Batch: 050/132 | Loss: 0.322\n",
      "Epoch: 46/50 | Batch: 100/132 | Loss: 0.159\n",
      "Epoch: 46/50 | Train Acc.: 94.85% | Validation Acc.: 94.00%\n",
      "Epoch: 47/50 | Batch: 000/132 | Loss: 0.188\n",
      "Epoch: 47/50 | Batch: 050/132 | Loss: 0.159\n",
      "Epoch: 47/50 | Batch: 100/132 | Loss: 0.172\n",
      "Epoch: 47/50 | Train Acc.: 94.95% | Validation Acc.: 94.17%\n",
      "Epoch: 48/50 | Batch: 000/132 | Loss: 0.217\n",
      "Epoch: 48/50 | Batch: 050/132 | Loss: 0.199\n",
      "Epoch: 48/50 | Batch: 100/132 | Loss: 0.208\n",
      "Epoch: 48/50 | Train Acc.: 94.99% | Validation Acc.: 94.08%\n",
      "Epoch: 49/50 | Batch: 000/132 | Loss: 0.215\n",
      "Epoch: 49/50 | Batch: 050/132 | Loss: 0.201\n",
      "Epoch: 49/50 | Batch: 100/132 | Loss: 0.178\n",
      "Epoch: 49/50 | Train Acc.: 95.04% | Validation Acc.: 94.20%\n",
      "Epoch: 50/50 | Batch: 000/132 | Loss: 0.155\n",
      "Epoch: 50/50 | Batch: 050/132 | Loss: 0.147\n",
      "Epoch: 50/50 | Batch: 100/132 | Loss: 0.228\n",
      "Epoch: 50/50 | Train Acc.: 95.00% | Validation Acc.: 94.11%\n"
     ]
    }
   ],
   "source": [
    "train_acc_list, train_loss_list = [], []\n",
    "valid_acc_list, valid_loss_list = [], []\n",
    "\n",
    "for ith_epoch in range(NUM_EPOCHS):\n",
    "    train_model(model, train_loader, ith_epoch, NUM_EPOCHS)\n",
    "    train_acc, train_loss = compute_accuracy_and_loss(model, train_loader)\n",
    "    valid_acc, valid_loss = compute_accuracy_and_loss(model, valid_loader)\n",
    "    train_acc_list.append(train_acc)\n",
    "    train_loss_list.append(train_loss)\n",
    "    valid_acc_list.append(valid_acc)\n",
    "    valid_loss_list.append(valid_loss)\n",
    "    \n",
    "    print(f'Epoch: {ith_epoch+1:02d}/{NUM_EPOCHS:02d} | Train Acc.: {train_acc:.2f}%'\n",
    "              f' | Validation Acc.: {valid_acc:.2f}%')"
   ]
  },
  {
   "cell_type": "markdown",
   "metadata": {},
   "source": [
    "## Evaluation"
   ]
  },
  {
   "cell_type": "code",
   "execution_count": 9,
   "metadata": {},
   "outputs": [
    {
     "data": {
      "image/png": "[encoded data removed]",
      "text/plain": [
       "<Figure size 432x288 with 1 Axes>"
      ]
     },
     "metadata": {
      "needs_background": "light"
     },
     "output_type": "display_data"
    }
   ],
   "source": [
    "plt.plot(range(1, NUM_EPOCHS+1), train_loss_list, label='Training loss')\n",
    "plt.plot(range(1, NUM_EPOCHS+1), valid_loss_list, label='Validation loss')\n",
    "plt.legend(loc='upper right')\n",
    "plt.title('Cross entropy vs. Epoch')\n",
    "plt.ylabel('Cross entropy')\n",
    "plt.xlabel('Epoch')\n",
    "plt.show()"
   ]
  },
  {
   "cell_type": "code",
   "execution_count": 10,
   "metadata": {},
   "outputs": [
    {
     "data": {
      "image/png": "[encoded data removed]",
      "text/plain": [
       "<Figure size 432x288 with 1 Axes>"
      ]
     },
     "metadata": {
      "needs_background": "light"
     },
     "output_type": "display_data"
    }
   ],
   "source": [
    "plt.plot(range(1, NUM_EPOCHS+1), train_acc_list, label='Training accuracy')\n",
    "plt.plot(range(1, NUM_EPOCHS+1), valid_acc_list, label='Validation accuracy')\n",
    "plt.legend(loc='upper left')\n",
    "plt.title('Accuracy vs. Epoch')\n",
    "plt.ylabel('Accuracy')\n",
    "plt.xlabel('Epoch')\n",
    "plt.ylim([60, 100])\n",
    "plt.show()"
   ]
  },
  {
   "cell_type": "code",
   "execution_count": 18,
   "metadata": {},
   "outputs": [],
   "source": [
    "### Save the model\n",
    "model.to(torch.device('cpu'))\n",
    "torch.save(model.state_dict(), './Softmax_1.pt')\n",
    "torch.save(optimizer.state_dict(), './Softmax_opti_1.pt')"
   ]
  },
  {
   "cell_type": "markdown",
   "metadata": {},
   "source": [
    "## Evaluation on Test set"
   ]
  },
  {
   "cell_type": "code",
   "execution_count": 11,
   "metadata": {},
   "outputs": [],
   "source": [
    "# Make predictions on test set\n",
    "test = pd.read_csv(\"digit-recognizer/test.csv\")\n",
    "test = torch.tensor(test.values, dtype=torch.float).reshape(-1, 784)/255\n",
    "test = test.to(DEVICE)\n",
    "model.eval()\n",
    "z, probas = model(test)\n",
    "_, predicted_labels = torch.max(probas, 1)"
   ]
  },
  {
   "cell_type": "code",
   "execution_count": 12,
   "metadata": {},
   "outputs": [
    {
     "data": {
      "text/html": [
       "<div>\n",
       "<style scoped>\n",
       "    .dataframe tbody tr th:only-of-type {\n",
       "        vertical-align: middle;\n",
       "    }\n",
       "\n",
       "    .dataframe tbody tr th {\n",
       "        vertical-align: top;\n",
       "    }\n",
       "\n",
       "    .dataframe thead th {\n",
       "        text-align: right;\n",
       "    }\n",
       "</style>\n",
       "<table border=\"1\" class=\"dataframe\">\n",
       "  <thead>\n",
       "    <tr style=\"text-align: right;\">\n",
       "      <th></th>\n",
       "      <th>ImageId</th>\n",
       "      <th>Label</th>\n",
       "    </tr>\n",
       "  </thead>\n",
       "  <tbody>\n",
       "    <tr>\n",
       "      <th>0</th>\n",
       "      <td>1</td>\n",
       "      <td>2</td>\n",
       "    </tr>\n",
       "    <tr>\n",
       "      <th>1</th>\n",
       "      <td>2</td>\n",
       "      <td>0</td>\n",
       "    </tr>\n",
       "    <tr>\n",
       "      <th>2</th>\n",
       "      <td>3</td>\n",
       "      <td>9</td>\n",
       "    </tr>\n",
       "    <tr>\n",
       "      <th>3</th>\n",
       "      <td>4</td>\n",
       "      <td>7</td>\n",
       "    </tr>\n",
       "    <tr>\n",
       "      <th>4</th>\n",
       "      <td>5</td>\n",
       "      <td>3</td>\n",
       "    </tr>\n",
       "    <tr>\n",
       "      <th>...</th>\n",
       "      <td>...</td>\n",
       "      <td>...</td>\n",
       "    </tr>\n",
       "    <tr>\n",
       "      <th>27995</th>\n",
       "      <td>27996</td>\n",
       "      <td>9</td>\n",
       "    </tr>\n",
       "    <tr>\n",
       "      <th>27996</th>\n",
       "      <td>27997</td>\n",
       "      <td>7</td>\n",
       "    </tr>\n",
       "    <tr>\n",
       "      <th>27997</th>\n",
       "      <td>27998</td>\n",
       "      <td>3</td>\n",
       "    </tr>\n",
       "    <tr>\n",
       "      <th>27998</th>\n",
       "      <td>27999</td>\n",
       "      <td>9</td>\n",
       "    </tr>\n",
       "    <tr>\n",
       "      <th>27999</th>\n",
       "      <td>28000</td>\n",
       "      <td>2</td>\n",
       "    </tr>\n",
       "  </tbody>\n",
       "</table>\n",
       "<p>28000 rows × 2 columns</p>\n",
       "</div>"
      ],
      "text/plain": [
       "       ImageId  Label\n",
       "0            1      2\n",
       "1            2      0\n",
       "2            3      9\n",
       "3            4      7\n",
       "4            5      3\n",
       "...        ...    ...\n",
       "27995    27996      9\n",
       "27996    27997      7\n",
       "27997    27998      3\n",
       "27998    27999      9\n",
       "27999    28000      2\n",
       "\n",
       "[28000 rows x 2 columns]"
      ]
     },
     "execution_count": 12,
     "metadata": {},
     "output_type": "execute_result"
    }
   ],
   "source": [
    "imageID = list(i for i in range(1, len(test)+1))\n",
    "data = {'ImageId':imageID, 'Label':predicted_labels.cpu().data.numpy()} \n",
    "  \n",
    "    \n",
    "# Create DataFrame \n",
    "df = pd.DataFrame(data); df"
   ]
  },
  {
   "cell_type": "code",
   "execution_count": 13,
   "metadata": {},
   "outputs": [],
   "source": [
    "df.to_csv(\"test.csv\", index=False)"
   ]
  },
  {
   "cell_type": "code",
   "execution_count": 16,
   "metadata": {},
   "outputs": [
    {
     "data": {
      "image/png": "[encoded data removed]",
      "text/plain": [
       "<Figure size 432x288 with 1 Axes>"
      ]
     },
     "metadata": {
      "needs_background": "light"
     },
     "output_type": "display_data"
    }
   ],
   "source": [
    "plt.plot(range(1, NUM_EPOCHS+1), train_acc_list, label='Training accuracy')\n",
    "plt.plot(range(1, NUM_EPOCHS+1), valid_acc_list, label='Validation accuracy')\n",
    "plt.legend(loc='lower right')\n",
    "plt.title('Accuracy vs. Epoch')\n",
    "plt.axhline(y=93.857, color='black')\n",
    "plt.ylabel('Accuracy')\n",
    "plt.xlabel('Epoch')\n",
    "plt.ylim([60, 100])\n",
    "plt.show()"
   ]
  },
  {
   "cell_type": "code",
   "execution_count": null,
   "metadata": {},
   "outputs": [],
   "source": []
  }
 ],
 "metadata": {
  "kernelspec": {
   "display_name": "Python 3",
   "language": "python",
   "name": "python3"
  },
  "language_info": {
   "codemirror_mode": {
    "name": "ipython",
    "version": 3
   },
   "file_extension": ".py",
   "mimetype": "text/x-python",
   "name": "python",
   "nbconvert_exporter": "python",
   "pygments_lexer": "ipython3",
   "version": "3.6.9"
  }
 },
 "nbformat": 4,
 "nbformat_minor": 2
}

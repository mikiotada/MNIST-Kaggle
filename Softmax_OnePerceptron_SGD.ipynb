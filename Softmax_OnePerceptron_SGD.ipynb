{
 "cells": [
  {
   "cell_type": "code",
   "execution_count": 1,
   "metadata": {},
   "outputs": [],
   "source": [
    "import os\n",
    "import numpy as np\n",
    "import pandas as pd\n",
    "\n",
    "import torch\n",
    "import torch.nn as nn\n",
    "import torch.nn.functional as F\n",
    "from torchvision import transforms\n",
    "from torch.utils.data import DataLoader\n",
    "\n",
    "\n",
    "%matplotlib inline\n",
    "import matplotlib.pyplot as plt\n",
    "from PIL import Image"
   ]
  },
  {
   "cell_type": "code",
   "execution_count": 2,
   "metadata": {},
   "outputs": [
    {
     "data": {
      "text/plain": [
       "device(type='cuda', index=0)"
      ]
     },
     "execution_count": 2,
     "metadata": {},
     "output_type": "execute_result"
    }
   ],
   "source": [
    "# Device\n",
    "DEVICE = torch.device('cuda:0' if torch.cuda.is_available() else 'cpu'); DEVICE"
   ]
  },
  {
   "cell_type": "markdown",
   "metadata": {},
   "source": [
    "# Parepare dataset"
   ]
  },
  {
   "cell_type": "code",
   "execution_count": 3,
   "metadata": {},
   "outputs": [],
   "source": [
    "class MNIST():\n",
    "\n",
    "    def __init__(self, csv, img_file, transform=None):\n",
    "        df = pd.read_csv(csv)\n",
    "        self.img_file = img_file\n",
    "        self.img_id = df['image']\n",
    "        self.y = df['label']\n",
    "        self.transform = transform\n",
    "\n",
    "        \n",
    "    def __getitem__(self, index):\n",
    "        img = Image.open(os.path.join(self.img_file,\n",
    "                                      self.img_id[index]))\n",
    "        \n",
    "        label = self.y[index]\n",
    "        if self.transform is not None:\n",
    "            img = self.transform(img)\n",
    "        \n",
    "        return img, label\n",
    "\n",
    "    \n",
    "    def __len__(self):\n",
    "        return self.y.shape[0]\n",
    "    \n",
    "    \n",
    "# Hyperparameters \n",
    "BATCH_SIZE = 256\n",
    "RANDOM_SEED = 123\n",
    "LEARNING_RATE = 0.03\n",
    "NUM_EPOCHS = 25\n",
    "\n",
    "# Architecture\n",
    "num_features = 784\n",
    "num_classes = 10\n",
    "\n",
    "\n",
    "train_transform = transforms.Compose([transforms.ToTensor()])\n",
    "\n",
    "val_transform = transforms.Compose([transforms.ToTensor()])\n",
    "\n",
    "train_dataset = MNIST(csv='customed_train.csv',\n",
    "                      img_file='mnist_train',\n",
    "                      transform=train_transform)\n",
    "\n",
    "train_loader = DataLoader(dataset=train_dataset,\n",
    "                          batch_size=BATCH_SIZE, \n",
    "                          shuffle=True)\n",
    "\n",
    "valid_dataset = MNIST(csv='customed_valid.csv',\n",
    "                      img_file='mnist_val',\n",
    "                      transform=val_transform)\n",
    "\n",
    "valid_loader = DataLoader(dataset=valid_dataset,\n",
    "                          batch_size=BATCH_SIZE,\n",
    "                          shuffle=True)"
   ]
  },
  {
   "cell_type": "markdown",
   "metadata": {},
   "source": [
    "## One Perceptron Model "
   ]
  },
  {
   "cell_type": "code",
   "execution_count": 4,
   "metadata": {},
   "outputs": [],
   "source": [
    "\"\"\"\n",
    "Model\n",
    "\"\"\"\n",
    "class SoftmaxRegression(nn.Module):\n",
    "    \n",
    "    def __init__(self, num_features, num_classes):\n",
    "        super(SoftmaxRegression, self).__init__()\n",
    "        self.linear = nn.Linear(num_features, num_classes)\n",
    "        \n",
    "    def forward(self, x):\n",
    "        z = self.linear(x)\n",
    "        probs = F.softmax(z, dim=1)\n",
    "        return z, probs\n",
    "    \n",
    "    \n",
    "# def init_weights(m):\n",
    "#     if type(m) == nn.Linear:\n",
    "#         nn.init.normal_(m.weight)\n",
    "#         m.bias.data.fill_(0.0)"
   ]
  },
  {
   "cell_type": "code",
   "execution_count": 5,
   "metadata": {},
   "outputs": [
    {
     "data": {
      "text/plain": [
       "<torch._C.Generator at 0x7f7a6b1aa6d0>"
      ]
     },
     "execution_count": 5,
     "metadata": {},
     "output_type": "execute_result"
    }
   ],
   "source": [
    "model = SoftmaxRegression(num_features=num_features,\n",
    "                          num_classes=num_classes)\n",
    "\n",
    "model = model.to(DEVICE)\n",
    "\n",
    "optimizer = torch.optim.SGD(model.parameters(), lr=LEARNING_RATE)  \n",
    "\n",
    "# Manual seed for deterministic data loader\n",
    "torch.manual_seed(RANDOM_SEED)"
   ]
  },
  {
   "cell_type": "code",
   "execution_count": 6,
   "metadata": {},
   "outputs": [],
   "source": [
    "def train_model(model, data_loader, ith_epoch, epochs):\n",
    "    model.train()\n",
    "    loss_per_epoch = 0 \n",
    "    \n",
    "    for batch_idx, (features, targets) in enumerate(data_loader):\n",
    "        features = features.view(-1, 28*28).to(DEVICE)\n",
    "        targets = targets.to(DEVICE)\n",
    "        \n",
    "        z, probs = model(features)\n",
    "        \n",
    "        loss = F.cross_entropy(z, targets)\n",
    "        loss_per_epoch += loss\n",
    "        \n",
    "        optimizer.zero_grad()\n",
    "        loss.backward()\n",
    "        optimizer.step()\n",
    "           \n",
    "        \n",
    "        if (batch_idx)% 50 == 0:\n",
    "            print(f'Epoch: {ith_epoch+1:02d}/{epochs:02d} | '\n",
    "                  f'Batch: {batch_idx:03d}/{len(data_loader):03d} | Loss: {loss:.3f}')"
   ]
  },
  {
   "cell_type": "code",
   "execution_count": 7,
   "metadata": {},
   "outputs": [],
   "source": [
    "def compute_accuracy_and_loss(model, data_loader):\n",
    "    correct_pred = 0\n",
    "    num_examples = 0\n",
    "    cross_entropy = 0.\n",
    "    \n",
    "    model.eval()\n",
    "    for features, targets in data_loader:\n",
    "        features = features.view(-1, 28*28).to(DEVICE)\n",
    "        targets = targets.to(DEVICE)\n",
    "\n",
    "        z, probs = model(features)\n",
    "        cross_entropy += F.cross_entropy(z, targets).item()\n",
    "        _, predicted_labels = torch.max(probs, 1)\n",
    "        num_examples += targets.size(0)\n",
    "        correct_pred += (predicted_labels == targets).sum()\n",
    "        \n",
    "    return correct_pred.float()/num_examples * 100, cross_entropy/num_examples"
   ]
  },
  {
   "cell_type": "code",
   "execution_count": 8,
   "metadata": {
    "scrolled": true
   },
   "outputs": [
    {
     "name": "stdout",
     "output_type": "stream",
     "text": [
      "Epoch: 01/25 | Batch: 000/132 | Loss: 2.299\n",
      "Epoch: 01/25 | Batch: 050/132 | Loss: 1.275\n",
      "Epoch: 01/25 | Batch: 100/132 | Loss: 0.993\n",
      "Epoch: 01/25 | Train Acc.: 82.81% | Validation Acc.: 83.31%\n",
      "Epoch: 02/25 | Batch: 000/132 | Loss: 0.830\n",
      "Epoch: 02/25 | Batch: 050/132 | Loss: 0.803\n",
      "Epoch: 02/25 | Batch: 100/132 | Loss: 0.661\n",
      "Epoch: 02/25 | Train Acc.: 85.27% | Validation Acc.: 85.58%\n",
      "Epoch: 03/25 | Batch: 000/132 | Loss: 0.700\n",
      "Epoch: 03/25 | Batch: 050/132 | Loss: 0.582\n",
      "Epoch: 03/25 | Batch: 100/132 | Loss: 0.693\n",
      "Epoch: 03/25 | Train Acc.: 86.35% | Validation Acc.: 86.80%\n",
      "Epoch: 04/25 | Batch: 000/132 | Loss: 0.620\n",
      "Epoch: 04/25 | Batch: 050/132 | Loss: 0.554\n",
      "Epoch: 04/25 | Batch: 100/132 | Loss: 0.571\n",
      "Epoch: 04/25 | Train Acc.: 87.07% | Validation Acc.: 87.49%\n",
      "Epoch: 05/25 | Batch: 000/132 | Loss: 0.534\n",
      "Epoch: 05/25 | Batch: 050/132 | Loss: 0.520\n",
      "Epoch: 05/25 | Batch: 100/132 | Loss: 0.490\n",
      "Epoch: 05/25 | Train Acc.: 87.55% | Validation Acc.: 88.01%\n",
      "Epoch: 06/25 | Batch: 000/132 | Loss: 0.542\n",
      "Epoch: 06/25 | Batch: 050/132 | Loss: 0.447\n",
      "Epoch: 06/25 | Batch: 100/132 | Loss: 0.463\n",
      "Epoch: 06/25 | Train Acc.: 88.09% | Validation Acc.: 88.46%\n",
      "Epoch: 07/25 | Batch: 000/132 | Loss: 0.432\n",
      "Epoch: 07/25 | Batch: 050/132 | Loss: 0.439\n",
      "Epoch: 07/25 | Batch: 100/132 | Loss: 0.525\n",
      "Epoch: 07/25 | Train Acc.: 88.35% | Validation Acc.: 88.62%\n",
      "Epoch: 08/25 | Batch: 000/132 | Loss: 0.402\n",
      "Epoch: 08/25 | Batch: 050/132 | Loss: 0.415\n",
      "Epoch: 08/25 | Batch: 100/132 | Loss: 0.475\n",
      "Epoch: 08/25 | Train Acc.: 88.82% | Validation Acc.: 88.95%\n",
      "Epoch: 09/25 | Batch: 000/132 | Loss: 0.333\n",
      "Epoch: 09/25 | Batch: 050/132 | Loss: 0.411\n",
      "Epoch: 09/25 | Batch: 100/132 | Loss: 0.354\n",
      "Epoch: 09/25 | Train Acc.: 88.85% | Validation Acc.: 89.01%\n",
      "Epoch: 10/25 | Batch: 000/132 | Loss: 0.486\n",
      "Epoch: 10/25 | Batch: 050/132 | Loss: 0.385\n",
      "Epoch: 10/25 | Batch: 100/132 | Loss: 0.507\n",
      "Epoch: 10/25 | Train Acc.: 89.20% | Validation Acc.: 89.27%\n",
      "Epoch: 11/25 | Batch: 000/132 | Loss: 0.331\n",
      "Epoch: 11/25 | Batch: 050/132 | Loss: 0.410\n",
      "Epoch: 11/25 | Batch: 100/132 | Loss: 0.368\n",
      "Epoch: 11/25 | Train Acc.: 89.34% | Validation Acc.: 89.33%\n",
      "Epoch: 12/25 | Batch: 000/132 | Loss: 0.344\n",
      "Epoch: 12/25 | Batch: 050/132 | Loss: 0.401\n",
      "Epoch: 12/25 | Batch: 100/132 | Loss: 0.411\n",
      "Epoch: 12/25 | Train Acc.: 89.51% | Validation Acc.: 89.38%\n",
      "Epoch: 13/25 | Batch: 000/132 | Loss: 0.453\n",
      "Epoch: 13/25 | Batch: 050/132 | Loss: 0.341\n",
      "Epoch: 13/25 | Batch: 100/132 | Loss: 0.402\n",
      "Epoch: 13/25 | Train Acc.: 89.63% | Validation Acc.: 89.46%\n",
      "Epoch: 14/25 | Batch: 000/132 | Loss: 0.295\n",
      "Epoch: 14/25 | Batch: 050/132 | Loss: 0.410\n",
      "Epoch: 14/25 | Batch: 100/132 | Loss: 0.299\n",
      "Epoch: 14/25 | Train Acc.: 89.78% | Validation Acc.: 89.60%\n",
      "Epoch: 15/25 | Batch: 000/132 | Loss: 0.280\n",
      "Epoch: 15/25 | Batch: 050/132 | Loss: 0.414\n",
      "Epoch: 15/25 | Batch: 100/132 | Loss: 0.380\n",
      "Epoch: 15/25 | Train Acc.: 89.86% | Validation Acc.: 89.74%\n",
      "Epoch: 16/25 | Batch: 000/132 | Loss: 0.348\n",
      "Epoch: 16/25 | Batch: 050/132 | Loss: 0.400\n",
      "Epoch: 16/25 | Batch: 100/132 | Loss: 0.419\n",
      "Epoch: 16/25 | Train Acc.: 89.94% | Validation Acc.: 89.76%\n",
      "Epoch: 17/25 | Batch: 000/132 | Loss: 0.428\n",
      "Epoch: 17/25 | Batch: 050/132 | Loss: 0.306\n",
      "Epoch: 17/25 | Batch: 100/132 | Loss: 0.323\n",
      "Epoch: 17/25 | Train Acc.: 90.11% | Validation Acc.: 89.94%\n",
      "Epoch: 18/25 | Batch: 000/132 | Loss: 0.339\n",
      "Epoch: 18/25 | Batch: 050/132 | Loss: 0.361\n",
      "Epoch: 18/25 | Batch: 100/132 | Loss: 0.353\n",
      "Epoch: 18/25 | Train Acc.: 90.16% | Validation Acc.: 90.04%\n",
      "Epoch: 19/25 | Batch: 000/132 | Loss: 0.398\n",
      "Epoch: 19/25 | Batch: 050/132 | Loss: 0.385\n",
      "Epoch: 19/25 | Batch: 100/132 | Loss: 0.406\n",
      "Epoch: 19/25 | Train Acc.: 90.23% | Validation Acc.: 89.96%\n",
      "Epoch: 20/25 | Batch: 000/132 | Loss: 0.392\n",
      "Epoch: 20/25 | Batch: 050/132 | Loss: 0.326\n",
      "Epoch: 20/25 | Batch: 100/132 | Loss: 0.337\n",
      "Epoch: 20/25 | Train Acc.: 90.25% | Validation Acc.: 90.10%\n",
      "Epoch: 21/25 | Batch: 000/132 | Loss: 0.367\n",
      "Epoch: 21/25 | Batch: 050/132 | Loss: 0.445\n",
      "Epoch: 21/25 | Batch: 100/132 | Loss: 0.354\n",
      "Epoch: 21/25 | Train Acc.: 90.35% | Validation Acc.: 90.10%\n",
      "Epoch: 22/25 | Batch: 000/132 | Loss: 0.340\n",
      "Epoch: 22/25 | Batch: 050/132 | Loss: 0.328\n",
      "Epoch: 22/25 | Batch: 100/132 | Loss: 0.437\n",
      "Epoch: 22/25 | Train Acc.: 90.41% | Validation Acc.: 90.21%\n",
      "Epoch: 23/25 | Batch: 000/132 | Loss: 0.292\n",
      "Epoch: 23/25 | Batch: 050/132 | Loss: 0.354\n",
      "Epoch: 23/25 | Batch: 100/132 | Loss: 0.443\n",
      "Epoch: 23/25 | Train Acc.: 90.49% | Validation Acc.: 90.26%\n",
      "Epoch: 24/25 | Batch: 000/132 | Loss: 0.367\n",
      "Epoch: 24/25 | Batch: 050/132 | Loss: 0.317\n",
      "Epoch: 24/25 | Batch: 100/132 | Loss: 0.339\n",
      "Epoch: 24/25 | Train Acc.: 90.55% | Validation Acc.: 90.29%\n",
      "Epoch: 25/25 | Batch: 000/132 | Loss: 0.372\n",
      "Epoch: 25/25 | Batch: 050/132 | Loss: 0.348\n",
      "Epoch: 25/25 | Batch: 100/132 | Loss: 0.350\n",
      "Epoch: 25/25 | Train Acc.: 90.59% | Validation Acc.: 90.42%\n"
     ]
    }
   ],
   "source": [
    "train_acc_list, train_loss_list = [], []\n",
    "valid_acc_list, valid_loss_list = [], []\n",
    "\n",
    "for ith_epoch in range(NUM_EPOCHS):\n",
    "    train_model(model, train_loader, ith_epoch, NUM_EPOCHS)\n",
    "    train_acc, train_loss = compute_accuracy_and_loss(model, train_loader)\n",
    "    valid_acc, valid_loss = compute_accuracy_and_loss(model, valid_loader)\n",
    "    train_acc_list.append(train_acc)\n",
    "    train_loss_list.append(train_loss)\n",
    "    valid_acc_list.append(valid_acc)\n",
    "    valid_loss_list.append(valid_loss)\n",
    "    \n",
    "    print(f'Epoch: {ith_epoch+1:02d}/{NUM_EPOCHS:02d} | Train Acc.: {train_acc:.2f}%'\n",
    "              f' | Validation Acc.: {valid_acc:.2f}%')"
   ]
  },
  {
   "cell_type": "markdown",
   "metadata": {},
   "source": [
    "## Evaluation"
   ]
  },
  {
   "cell_type": "code",
   "execution_count": 9,
   "metadata": {},
   "outputs": [
    {
     "data": {
      "image/png": "[encoded data removed]",
      "text/plain": [
       "<Figure size 432x288 with 1 Axes>"
      ]
     },
     "metadata": {
      "needs_background": "light"
     },
     "output_type": "display_data"
    }
   ],
   "source": [
    "plt.plot(range(1, NUM_EPOCHS+1), train_loss_list, label='Training loss')\n",
    "plt.plot(range(1, NUM_EPOCHS+1), valid_loss_list, label='Validation loss')\n",
    "plt.legend(loc='upper right')\n",
    "plt.title('Cross entropy vs. Epoch')\n",
    "plt.ylabel('Cross entropy')\n",
    "plt.xlabel('Epoch')\n",
    "plt.show()"
   ]
  },
  {
   "cell_type": "code",
   "execution_count": 10,
   "metadata": {},
   "outputs": [
    {
     "data": {
      "image/png": "[encoded data removed]",
      "text/plain": [
       "<Figure size 432x288 with 1 Axes>"
      ]
     },
     "metadata": {
      "needs_background": "light"
     },
     "output_type": "display_data"
    }
   ],
   "source": [
    "plt.plot(range(1, NUM_EPOCHS+1), train_acc_list, label='Training accuracy')\n",
    "plt.plot(range(1, NUM_EPOCHS+1), valid_acc_list, label='Validation accuracy')\n",
    "plt.legend(loc='upper left')\n",
    "plt.title('Accuracy vs. Epoch')\n",
    "plt.ylabel('Accuracy')\n",
    "plt.xlabel('Epoch')\n",
    "plt.ylim([60, 100])\n",
    "plt.show()"
   ]
  },
  {
   "cell_type": "code",
   "execution_count": 17,
   "metadata": {},
   "outputs": [],
   "source": [
    "### Save the model\n",
    "model.to(torch.device('cpu'))\n",
    "torch.save(model.state_dict(), './Softmax_0.pt')\n",
    "torch.save(optimizer.state_dict(), './Softmax_opti_0.pt')"
   ]
  },
  {
   "cell_type": "markdown",
   "metadata": {},
   "source": [
    "## Evaluation on Test set"
   ]
  },
  {
   "cell_type": "code",
   "execution_count": 11,
   "metadata": {},
   "outputs": [],
   "source": [
    "# Make predictions on test set\n",
    "test = pd.read_csv(\"digit-recognizer/test.csv\")\n",
    "test = torch.tensor(test.values, dtype=torch.float).reshape(-1, 784)/255\n",
    "test = test.to(DEVICE)\n",
    "model.eval()\n",
    "z, probas = model(test)\n",
    "_, predicted_labels = torch.max(probas, 1)"
   ]
  },
  {
   "cell_type": "code",
   "execution_count": 12,
   "metadata": {},
   "outputs": [
    {
     "data": {
      "text/html": [
       "<div>\n",
       "<style scoped>\n",
       "    .dataframe tbody tr th:only-of-type {\n",
       "        vertical-align: middle;\n",
       "    }\n",
       "\n",
       "    .dataframe tbody tr th {\n",
       "        vertical-align: top;\n",
       "    }\n",
       "\n",
       "    .dataframe thead th {\n",
       "        text-align: right;\n",
       "    }\n",
       "</style>\n",
       "<table border=\"1\" class=\"dataframe\">\n",
       "  <thead>\n",
       "    <tr style=\"text-align: right;\">\n",
       "      <th></th>\n",
       "      <th>ImageId</th>\n",
       "      <th>Label</th>\n",
       "    </tr>\n",
       "  </thead>\n",
       "  <tbody>\n",
       "    <tr>\n",
       "      <th>0</th>\n",
       "      <td>1</td>\n",
       "      <td>2</td>\n",
       "    </tr>\n",
       "    <tr>\n",
       "      <th>1</th>\n",
       "      <td>2</td>\n",
       "      <td>0</td>\n",
       "    </tr>\n",
       "    <tr>\n",
       "      <th>2</th>\n",
       "      <td>3</td>\n",
       "      <td>9</td>\n",
       "    </tr>\n",
       "    <tr>\n",
       "      <th>3</th>\n",
       "      <td>4</td>\n",
       "      <td>9</td>\n",
       "    </tr>\n",
       "    <tr>\n",
       "      <th>4</th>\n",
       "      <td>5</td>\n",
       "      <td>3</td>\n",
       "    </tr>\n",
       "    <tr>\n",
       "      <th>...</th>\n",
       "      <td>...</td>\n",
       "      <td>...</td>\n",
       "    </tr>\n",
       "    <tr>\n",
       "      <th>27995</th>\n",
       "      <td>27996</td>\n",
       "      <td>9</td>\n",
       "    </tr>\n",
       "    <tr>\n",
       "      <th>27996</th>\n",
       "      <td>27997</td>\n",
       "      <td>7</td>\n",
       "    </tr>\n",
       "    <tr>\n",
       "      <th>27997</th>\n",
       "      <td>27998</td>\n",
       "      <td>3</td>\n",
       "    </tr>\n",
       "    <tr>\n",
       "      <th>27998</th>\n",
       "      <td>27999</td>\n",
       "      <td>9</td>\n",
       "    </tr>\n",
       "    <tr>\n",
       "      <th>27999</th>\n",
       "      <td>28000</td>\n",
       "      <td>2</td>\n",
       "    </tr>\n",
       "  </tbody>\n",
       "</table>\n",
       "<p>28000 rows × 2 columns</p>\n",
       "</div>"
      ],
      "text/plain": [
       "       ImageId  Label\n",
       "0            1      2\n",
       "1            2      0\n",
       "2            3      9\n",
       "3            4      9\n",
       "4            5      3\n",
       "...        ...    ...\n",
       "27995    27996      9\n",
       "27996    27997      7\n",
       "27997    27998      3\n",
       "27998    27999      9\n",
       "27999    28000      2\n",
       "\n",
       "[28000 rows x 2 columns]"
      ]
     },
     "execution_count": 12,
     "metadata": {},
     "output_type": "execute_result"
    }
   ],
   "source": [
    "imageID = list(i for i in range(1, len(test)+1))\n",
    "data = {'ImageId':imageID, 'Label':predicted_labels.cpu().data.numpy()} \n",
    "  \n",
    "# Create DataFrame \n",
    "df = pd.DataFrame(data); df"
   ]
  },
  {
   "cell_type": "code",
   "execution_count": 13,
   "metadata": {},
   "outputs": [],
   "source": [
    "df.to_csv(\"test6.csv\", index=False)"
   ]
  },
  {
   "cell_type": "code",
   "execution_count": 14,
   "metadata": {},
   "outputs": [
    {
     "data": {
      "image/png": "[encoded data removed]",
      "text/plain": [
       "<Figure size 432x288 with 1 Axes>"
      ]
     },
     "metadata": {
      "needs_background": "light"
     },
     "output_type": "display_data"
    }
   ],
   "source": [
    "plt.plot(range(1, NUM_EPOCHS+1), train_acc_list, label='Training accuracy')\n",
    "plt.plot(range(1, NUM_EPOCHS+1), valid_acc_list, label='Validation accuracy')\n",
    "plt.legend(loc='upper left')\n",
    "plt.title('Accuracy vs. Epoch')\n",
    "plt.axhline(y=90.414, color='black')\n",
    "plt.ylabel('Accuracy')\n",
    "plt.xlabel('Epoch')\n",
    "plt.ylim([60, 100])\n",
    "plt.show()"
   ]
  },
  {
   "cell_type": "code",
   "execution_count": null,
   "metadata": {},
   "outputs": [],
   "source": []
  }
 ],
 "metadata": {
  "kernelspec": {
   "display_name": "Python 3",
   "language": "python",
   "name": "python3"
  },
  "language_info": {
   "codemirror_mode": {
    "name": "ipython",
    "version": 3
   },
   "file_extension": ".py",
   "mimetype": "text/x-python",
   "name": "python",
   "nbconvert_exporter": "python",
   "pygments_lexer": "ipython3",
   "version": "3.6.9"
  }
 },
 "nbformat": 4,
 "nbformat_minor": 2
}
